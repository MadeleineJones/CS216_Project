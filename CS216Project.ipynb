{
  "nbformat": 4,
  "nbformat_minor": 0,
  "metadata": {
    "colab": {
      "name": "CS216Project.ipynb",
      "provenance": [],
      "collapsed_sections": []
    },
    "kernelspec": {
      "name": "python3",
      "display_name": "Python 3"
    },
    "language_info": {
      "name": "python"
    }
  },
  "cells": [
    {
      "cell_type": "markdown",
      "source": [
        "# Introduction\n",
        "\n",
        "Since ancient times, wine has been a central part of human culture, leisure, and diet. Everything from wine-making to wine-tasting has a certain art to it, and each region has its own unique wine culture. Consumers select higher quality wine to savor and appreciate in moderation. \n",
        "\n",
        "The questions we would like to explore are: What factors affect wine quality rating? How do the factors affecting wine quality differ between red and white wines? Can the type of wine be predicted based on quantitative chemical properties?\n",
        "\n",
        "These research questions are relevant because they investigate a commonly consumed beverage in society. While most people tend to choose their wine based on factors such as price and taste, it may be beneficial to explore other qualities like pH and acidity so that consumers can make more informed decisions about their purchases."
      ],
      "metadata": {
        "id": "2_ieBdRB7DZz"
      }
    },
    {
      "cell_type": "markdown",
      "source": [
        "# Data\n",
        "\n",
        "We are using two Kaggle datasets on wine quality; one for [red wine](https://www.kaggle.com/yasserh/wine-quality-dataset) and the other for [white](https://www.kaggle.com/piyushagni5/white-wine-quality). \n",
        "\n",
        "The data were collected between May 2004 and February 2007 for a paper on modeling and data mining wine preferences [1]. The wine comes from northern Portugal and is called *Vinho Verde*. Due to privacy, only \"physicochemical\" variables (chemical characteristics such as pH, sulfate content, etc) along with determined wine quality are available.\n",
        "\n",
        "In the two datasets, there are parallel variables such as fixed acidity, citric acid, and residual sugar that all could act as interesting factors in our analysis. In this project, we will analyze the intersection of and map the connections between those variables to see how they impact the overall quality of red and white wines (which have been provided as a score between 0 to 10). We are also comparing two different types of wine, which is uniquely interesting because we can map the differences between the datasets and obtain a more complex and meaningful analysis than with just one dataset. Lastly, we are simply curious about wine, so we are interested to learn more about what makes a good quality wine!\n",
        "\n",
        "1. P. Cortez, A. Cerdeira, F. Almeida, T. Matos and J. Reis.\n",
        "Modeling wine preferences by data mining from physicochemical properties. In Decision Support Systems, Elsevier, 47(4):547-553, 2009."
      ],
      "metadata": {
        "id": "OAr1XS8B7pLI"
      }
    },
    {
      "cell_type": "markdown",
      "source": [
        "# Results and Methods"
      ],
      "metadata": {
        "id": "1qMOPn6ifnR0"
      }
    },
    {
      "cell_type": "markdown",
      "source": [
        "We first read in our red wine and white wine datasets, assigned them into their respective DataFrame objects, and merged the datasets together using an outer join. Below is our initial exploratory data analysis that depicts the relationships between several variables in our merged dataset."
      ],
      "metadata": {
        "id": "rf56ij__ZM2u"
      }
    },
    {
      "cell_type": "code",
      "source": [
        "\n",
        "import pandas as pd\n",
        "import numpy as np\n",
        "import seaborn as sns"
      ],
      "metadata": {
        "id": "dJFdNaI0er2L"
      },
      "execution_count": null,
      "outputs": []
    },
    {
      "cell_type": "code",
      "source": [
        "url_red = \"https://raw.githubusercontent.com/MadeleineJones/CS216_Project/main/winequality-red.csv\"\n",
        "url_white = \"https://raw.githubusercontent.com/MadeleineJones/CS216_Project/main/winequality-white.csv\"\n",
        "\n",
        "red = pd.read_csv(url_red)\n",
        "white = pd.read_csv(url_white)"
      ],
      "metadata": {
        "id": "y26faqdkhHuc"
      },
      "execution_count": null,
      "outputs": []
    },
    {
      "cell_type": "code",
      "source": [
        "red[\"type\"] = \"red\"\n",
        "white[\"type\"] = \"white\"\n",
        "print(red.shape[0])\n",
        "print(white.shape[0])\n",
        "wine = pd.merge(red, white, how = \"outer\")\n",
        "wine.head()"
      ],
      "metadata": {
        "colab": {
          "base_uri": "https://localhost:8080/",
          "height": 330
        },
        "id": "XZNqCjhUhc7w",
        "outputId": "cd452334-3152-4b9f-e23b-15d7727ac6af"
      },
      "execution_count": null,
      "outputs": [
        {
          "output_type": "stream",
          "name": "stdout",
          "text": [
            "1599\n",
            "4898\n"
          ]
        },
        {
          "output_type": "execute_result",
          "data": {
            "text/plain": [
              "   fixed acidity  volatile acidity  citric acid  residual sugar  chlorides  \\\n",
              "0            7.4              0.70         0.00             1.9      0.076   \n",
              "1            7.4              0.70         0.00             1.9      0.076   \n",
              "2            7.8              0.88         0.00             2.6      0.098   \n",
              "3            7.8              0.76         0.04             2.3      0.092   \n",
              "4           11.2              0.28         0.56             1.9      0.075   \n",
              "\n",
              "   free sulfur dioxide  total sulfur dioxide  density    pH  sulphates  \\\n",
              "0                 11.0                  34.0   0.9978  3.51       0.56   \n",
              "1                 11.0                  34.0   0.9978  3.51       0.56   \n",
              "2                 25.0                  67.0   0.9968  3.20       0.68   \n",
              "3                 15.0                  54.0   0.9970  3.26       0.65   \n",
              "4                 17.0                  60.0   0.9980  3.16       0.58   \n",
              "\n",
              "   alcohol  quality type  \n",
              "0      9.4        5  red  \n",
              "1      9.4        5  red  \n",
              "2      9.8        5  red  \n",
              "3      9.8        5  red  \n",
              "4      9.8        6  red  "
            ],
            "text/html": [
              "\n",
              "  <div id=\"df-a49cc384-f001-4707-9311-7ef28a22d2d1\">\n",
              "    <div class=\"colab-df-container\">\n",
              "      <div>\n",
              "<style scoped>\n",
              "    .dataframe tbody tr th:only-of-type {\n",
              "        vertical-align: middle;\n",
              "    }\n",
              "\n",
              "    .dataframe tbody tr th {\n",
              "        vertical-align: top;\n",
              "    }\n",
              "\n",
              "    .dataframe thead th {\n",
              "        text-align: right;\n",
              "    }\n",
              "</style>\n",
              "<table border=\"1\" class=\"dataframe\">\n",
              "  <thead>\n",
              "    <tr style=\"text-align: right;\">\n",
              "      <th></th>\n",
              "      <th>fixed acidity</th>\n",
              "      <th>volatile acidity</th>\n",
              "      <th>citric acid</th>\n",
              "      <th>residual sugar</th>\n",
              "      <th>chlorides</th>\n",
              "      <th>free sulfur dioxide</th>\n",
              "      <th>total sulfur dioxide</th>\n",
              "      <th>density</th>\n",
              "      <th>pH</th>\n",
              "      <th>sulphates</th>\n",
              "      <th>alcohol</th>\n",
              "      <th>quality</th>\n",
              "      <th>type</th>\n",
              "    </tr>\n",
              "  </thead>\n",
              "  <tbody>\n",
              "    <tr>\n",
              "      <th>0</th>\n",
              "      <td>7.4</td>\n",
              "      <td>0.70</td>\n",
              "      <td>0.00</td>\n",
              "      <td>1.9</td>\n",
              "      <td>0.076</td>\n",
              "      <td>11.0</td>\n",
              "      <td>34.0</td>\n",
              "      <td>0.9978</td>\n",
              "      <td>3.51</td>\n",
              "      <td>0.56</td>\n",
              "      <td>9.4</td>\n",
              "      <td>5</td>\n",
              "      <td>red</td>\n",
              "    </tr>\n",
              "    <tr>\n",
              "      <th>1</th>\n",
              "      <td>7.4</td>\n",
              "      <td>0.70</td>\n",
              "      <td>0.00</td>\n",
              "      <td>1.9</td>\n",
              "      <td>0.076</td>\n",
              "      <td>11.0</td>\n",
              "      <td>34.0</td>\n",
              "      <td>0.9978</td>\n",
              "      <td>3.51</td>\n",
              "      <td>0.56</td>\n",
              "      <td>9.4</td>\n",
              "      <td>5</td>\n",
              "      <td>red</td>\n",
              "    </tr>\n",
              "    <tr>\n",
              "      <th>2</th>\n",
              "      <td>7.8</td>\n",
              "      <td>0.88</td>\n",
              "      <td>0.00</td>\n",
              "      <td>2.6</td>\n",
              "      <td>0.098</td>\n",
              "      <td>25.0</td>\n",
              "      <td>67.0</td>\n",
              "      <td>0.9968</td>\n",
              "      <td>3.20</td>\n",
              "      <td>0.68</td>\n",
              "      <td>9.8</td>\n",
              "      <td>5</td>\n",
              "      <td>red</td>\n",
              "    </tr>\n",
              "    <tr>\n",
              "      <th>3</th>\n",
              "      <td>7.8</td>\n",
              "      <td>0.76</td>\n",
              "      <td>0.04</td>\n",
              "      <td>2.3</td>\n",
              "      <td>0.092</td>\n",
              "      <td>15.0</td>\n",
              "      <td>54.0</td>\n",
              "      <td>0.9970</td>\n",
              "      <td>3.26</td>\n",
              "      <td>0.65</td>\n",
              "      <td>9.8</td>\n",
              "      <td>5</td>\n",
              "      <td>red</td>\n",
              "    </tr>\n",
              "    <tr>\n",
              "      <th>4</th>\n",
              "      <td>11.2</td>\n",
              "      <td>0.28</td>\n",
              "      <td>0.56</td>\n",
              "      <td>1.9</td>\n",
              "      <td>0.075</td>\n",
              "      <td>17.0</td>\n",
              "      <td>60.0</td>\n",
              "      <td>0.9980</td>\n",
              "      <td>3.16</td>\n",
              "      <td>0.58</td>\n",
              "      <td>9.8</td>\n",
              "      <td>6</td>\n",
              "      <td>red</td>\n",
              "    </tr>\n",
              "  </tbody>\n",
              "</table>\n",
              "</div>\n",
              "      <button class=\"colab-df-convert\" onclick=\"convertToInteractive('df-a49cc384-f001-4707-9311-7ef28a22d2d1')\"\n",
              "              title=\"Convert this dataframe to an interactive table.\"\n",
              "              style=\"display:none;\">\n",
              "        \n",
              "  <svg xmlns=\"http://www.w3.org/2000/svg\" height=\"24px\"viewBox=\"0 0 24 24\"\n",
              "       width=\"24px\">\n",
              "    <path d=\"M0 0h24v24H0V0z\" fill=\"none\"/>\n",
              "    <path d=\"M18.56 5.44l.94 2.06.94-2.06 2.06-.94-2.06-.94-.94-2.06-.94 2.06-2.06.94zm-11 1L8.5 8.5l.94-2.06 2.06-.94-2.06-.94L8.5 2.5l-.94 2.06-2.06.94zm10 10l.94 2.06.94-2.06 2.06-.94-2.06-.94-.94-2.06-.94 2.06-2.06.94z\"/><path d=\"M17.41 7.96l-1.37-1.37c-.4-.4-.92-.59-1.43-.59-.52 0-1.04.2-1.43.59L10.3 9.45l-7.72 7.72c-.78.78-.78 2.05 0 2.83L4 21.41c.39.39.9.59 1.41.59.51 0 1.02-.2 1.41-.59l7.78-7.78 2.81-2.81c.8-.78.8-2.07 0-2.86zM5.41 20L4 18.59l7.72-7.72 1.47 1.35L5.41 20z\"/>\n",
              "  </svg>\n",
              "      </button>\n",
              "      \n",
              "  <style>\n",
              "    .colab-df-container {\n",
              "      display:flex;\n",
              "      flex-wrap:wrap;\n",
              "      gap: 12px;\n",
              "    }\n",
              "\n",
              "    .colab-df-convert {\n",
              "      background-color: #E8F0FE;\n",
              "      border: none;\n",
              "      border-radius: 50%;\n",
              "      cursor: pointer;\n",
              "      display: none;\n",
              "      fill: #1967D2;\n",
              "      height: 32px;\n",
              "      padding: 0 0 0 0;\n",
              "      width: 32px;\n",
              "    }\n",
              "\n",
              "    .colab-df-convert:hover {\n",
              "      background-color: #E2EBFA;\n",
              "      box-shadow: 0px 1px 2px rgba(60, 64, 67, 0.3), 0px 1px 3px 1px rgba(60, 64, 67, 0.15);\n",
              "      fill: #174EA6;\n",
              "    }\n",
              "\n",
              "    [theme=dark] .colab-df-convert {\n",
              "      background-color: #3B4455;\n",
              "      fill: #D2E3FC;\n",
              "    }\n",
              "\n",
              "    [theme=dark] .colab-df-convert:hover {\n",
              "      background-color: #434B5C;\n",
              "      box-shadow: 0px 1px 3px 1px rgba(0, 0, 0, 0.15);\n",
              "      filter: drop-shadow(0px 1px 2px rgba(0, 0, 0, 0.3));\n",
              "      fill: #FFFFFF;\n",
              "    }\n",
              "  </style>\n",
              "\n",
              "      <script>\n",
              "        const buttonEl =\n",
              "          document.querySelector('#df-a49cc384-f001-4707-9311-7ef28a22d2d1 button.colab-df-convert');\n",
              "        buttonEl.style.display =\n",
              "          google.colab.kernel.accessAllowed ? 'block' : 'none';\n",
              "\n",
              "        async function convertToInteractive(key) {\n",
              "          const element = document.querySelector('#df-a49cc384-f001-4707-9311-7ef28a22d2d1');\n",
              "          const dataTable =\n",
              "            await google.colab.kernel.invokeFunction('convertToInteractive',\n",
              "                                                     [key], {});\n",
              "          if (!dataTable) return;\n",
              "\n",
              "          const docLinkHtml = 'Like what you see? Visit the ' +\n",
              "            '<a target=\"_blank\" href=https://colab.research.google.com/notebooks/data_table.ipynb>data table notebook</a>'\n",
              "            + ' to learn more about interactive tables.';\n",
              "          element.innerHTML = '';\n",
              "          dataTable['output_type'] = 'display_data';\n",
              "          await google.colab.output.renderOutput(dataTable, element);\n",
              "          const docLink = document.createElement('div');\n",
              "          docLink.innerHTML = docLinkHtml;\n",
              "          element.appendChild(docLink);\n",
              "        }\n",
              "      </script>\n",
              "    </div>\n",
              "  </div>\n",
              "  "
            ]
          },
          "metadata": {},
          "execution_count": 3
        }
      ]
    },
    {
      "cell_type": "code",
      "source": [
        "#EDA 1\n",
        "sns.catplot(data = wine,\n",
        "            x = 'type', y = 'quality', kind = \"box\").set(title = 'Distribution of Quality Scores between Red and White Wines')"
      ],
      "metadata": {
        "colab": {
          "base_uri": "https://localhost:8080/",
          "height": 401
        },
        "id": "CMiZjqN9k2Uq",
        "outputId": "94e08871-20f0-4dac-8995-8e71082ecae6"
      },
      "execution_count": null,
      "outputs": [
        {
          "output_type": "execute_result",
          "data": {
            "text/plain": [
              "<seaborn.axisgrid.FacetGrid at 0x7f282481ca90>"
            ]
          },
          "metadata": {},
          "execution_count": 13
        },
        {
          "output_type": "display_data",
          "data": {
            "text/plain": [
              "<Figure size 360x360 with 1 Axes>"
            ],
            "image/png": "[encoded data removed]"
          },
          "metadata": {
            "needs_background": "light"
          }
        }
      ]
    },
    {
      "cell_type": "markdown",
      "source": [
        "From this boxplot, we observe that the quality ratings of red and white wines are very similarly distributed, with white wine having one more outlier than red wine. The minimum rating is 4, the maximum rating is 7, and the IQR is 5-6 for both types of wine."
      ],
      "metadata": {
        "id": "T9efRJ4FntYs"
      }
    },
    {
      "cell_type": "code",
      "source": [
        "#EDA 2\n",
        "sns.scatterplot(data = wine, x = \"quality\", y = \"sulphates\", hue = \"type\").set(title = 'Quality vs Sulphates')"
      ],
      "metadata": {
        "id": "EBBITKZTmEKv",
        "colab": {
          "base_uri": "https://localhost:8080/",
          "height": 310
        },
        "outputId": "14388824-b6c9-46fe-ac2c-f9ea6aa4795d"
      },
      "execution_count": null,
      "outputs": [
        {
          "output_type": "execute_result",
          "data": {
            "text/plain": [
              "[Text(0.5, 1.0, 'Quality vs Sulphates')]"
            ]
          },
          "metadata": {},
          "execution_count": 5
        },
        {
          "output_type": "display_data",
          "data": {
            "text/plain": [
              "<Figure size 432x288 with 1 Axes>"
            ],
            "image/png": "[encoded data removed]"
          },
          "metadata": {
            "needs_background": "light"
          }
        }
      ]
    },
    {
      "cell_type": "markdown",
      "source": [
        "This scatterplot of quality vs sulphates shows that white wines tend to have less sulphates than red wine, and that the distribution is approximately normal with a center around 5-6."
      ],
      "metadata": {
        "id": "RMuCz4V6ocJc"
      }
    },
    {
      "cell_type": "code",
      "source": [
        "#EDA 3\n",
        "sns.catplot(data = wine, x = \"quality\", y = \"chlorides\", kind = \"box\").set(title = 'Quality vs Chlorides')"
      ],
      "metadata": {
        "colab": {
          "base_uri": "https://localhost:8080/",
          "height": 401
        },
        "id": "htbCR4vr3VBc",
        "outputId": "3c7e1151-0fd2-4c12-b777-8284da632915"
      },
      "execution_count": null,
      "outputs": [
        {
          "output_type": "execute_result",
          "data": {
            "text/plain": [
              "<seaborn.axisgrid.FacetGrid at 0x7f2827154f90>"
            ]
          },
          "metadata": {},
          "execution_count": 6
        },
        {
          "output_type": "display_data",
          "data": {
            "text/plain": [
              "<Figure size 360x360 with 1 Axes>"
            ],
            "image/png": "[encoded data removed]"
          },
          "metadata": {
            "needs_background": "light"
          }
        }
      ]
    },
    {
      "cell_type": "markdown",
      "source": [
        "Finally, from the boxplot of quality vs chlorides, we observe that as the quality rating increases, the amount of chlorides decreases slightly. In addition, there is significant variation in the distribution of chlorides for wines that have quality ratings of 5 and 6."
      ],
      "metadata": {
        "id": "m_SqTvxOpa1G"
      }
    },
    {
      "cell_type": "markdown",
      "source": [
        "To answer our research questions, we first conducted a linear regression model for each dataset to explore the relationship between wine quality and all of the physicochemical properties given in the data. After testing multiple combinations of variables and assessing the model fit, we determined that the best predictors of white wine quality were alcohol and citric acid and the best predictors of red wine quality were alcohol, residual sugar, and pH. For our white wine model, we obtained a mean-squared error of 0.635 and an R-squared value of 0.190. While the MSE value is relatively low, meaning that our predictions do not deviate that far from the real values, the R-squared value is close to 0, which indicates that there is little correlation between the variables we're testing. Our results for the red wine model follow a similar pattern, with slight improvement in the accuracy of our model; the MSE is 0.487 (lower than the white wine model) and the R-squared value is 0.253 (higher than the white wine model)."
      ],
      "metadata": {
        "id": "EWKolZpEZxQ5"
      }
    },
    {
      "cell_type": "code",
      "source": [
        "#Linear reg for factors predicting quality in WHITE\n",
        "from sklearn.linear_model import LinearRegression\n",
        "from sklearn.metrics import mean_squared_error\n",
        "from sklearn.metrics import r2_score\n",
        "\n",
        "data = white[[\"alcohol\", \"citric acid\"]].values\n",
        "target = white[\"quality\"].values\n",
        "\n",
        "linear_model = LinearRegression()\n",
        "linear_model.fit(X = data, y = target)\n",
        "predicted = linear_model.predict(data)\n",
        "\n",
        "white_mse = mean_squared_error(target, predicted) # float: MSE\n",
        "white_r2 = r2_score(target, predicted)\n",
        "\n",
        "print(\"MSE:\", white_mse, \"r^2:\", white_r2)"
      ],
      "metadata": {
        "id": "1kk5TOomnnma",
        "colab": {
          "base_uri": "https://localhost:8080/"
        },
        "outputId": "bd153836-bfea-49cb-e05f-fd5f59e26663"
      },
      "execution_count": null,
      "outputs": [
        {
          "output_type": "stream",
          "name": "stdout",
          "text": [
            "MSE: 0.6349679089742609 r^2: 0.19029391204459845\n"
          ]
        }
      ]
    },
    {
      "cell_type": "code",
      "source": [
        "#Linear reg for factors predicting quality in RED\n",
        "from sklearn.linear_model import LinearRegression\n",
        "from sklearn.metrics import mean_squared_error\n",
        "from sklearn.metrics import r2_score\n",
        "\n",
        "data = red[[\"alcohol\", \"residual sugar\", \"pH\"]].values\n",
        "target = red[\"quality\"].values\n",
        "\n",
        "linear_model = LinearRegression()\n",
        "linear_model.fit(X = data, y = target)\n",
        "predicted = linear_model.predict(data)\n",
        "\n",
        "q1_mse = mean_squared_error(target, predicted) # float: MSE\n",
        "q1_r2 = r2_score(target, predicted)\n",
        "\n",
        "print(\"MSE:\", q1_mse, \"r^2:\", q1_r2)"
      ],
      "metadata": {
        "id": "LxgJ3jFmn5z8",
        "colab": {
          "base_uri": "https://localhost:8080/"
        },
        "outputId": "6a5914a7-c459-4cf4-dfff-9fe1c69dfe95"
      },
      "execution_count": null,
      "outputs": [
        {
          "output_type": "stream",
          "name": "stdout",
          "text": [
            "MSE: 0.4871890921384391 r^2: 0.2525029326493211\n"
          ]
        }
      ]
    },
    {
      "cell_type": "markdown",
      "source": [
        "Next, we split our data into a training set and test set, where 65% of the data was the test set. We then trained a logistic regression model on our training set with all twelve of our variables from the merged dataset to predict the wine type (red or white). The classification accuracy of this model is 0.984; despite such a high level of accuracy, we determined that a simpler model would provide a more meaningful analysis and tested various combinations of our predictor variables to obtain a smaller logistic regression model. Our resulting predictors were fixed acidity, volatile acidity, citric acid, residual sugar, and pH. Our accuracy score was 0.948 for this new model. In addition, we plotted a confusion matrix for this model because the interpretation seemed more meaningful as many of the variables in the original model are very similar. "
      ],
      "metadata": {
        "id": "57SUwTWjaywJ"
      }
    },
    {
      "cell_type": "code",
      "source": [
        "#Prediction of red or white (all predictors)\n",
        "from sklearn.model_selection import train_test_split\n",
        "from sklearn.linear_model import LogisticRegression\n",
        "from sklearn.metrics import accuracy_score\n",
        "from sklearn.metrics import plot_confusion_matrix\n",
        "from sklearn import metrics\n",
        "\n",
        "wine_data = wine.drop(columns = [\"type\"])\n",
        "wine_target = wine[\"type\"]\n",
        "wine_train_data, wine_test_data, wine_train_target, wine_test_target = train_test_split(wine_data, wine_target, test_size = 0.65, random_state = 79)\n",
        "\n",
        "logistic = LogisticRegression(max_iter = 1000)\n",
        "data = wine_train_data[[\"fixed acidity\", \"volatile acidity\", \"citric acid\", \"residual sugar\", \"chlorides\", \"free sulfur dioxide\", \"total sulfur dioxide\",\n",
        "                        \"density\", \"pH\", \"sulphates\", \"alcohol\", \"quality\"]]\n",
        "\n",
        "prediction_data = wine_test_data[[\"fixed acidity\", \"volatile acidity\", \"citric acid\", \"residual sugar\", \"chlorides\", \"free sulfur dioxide\", \"total sulfur dioxide\",\n",
        "                        \"density\", \"pH\", \"sulphates\", \"alcohol\", \"quality\"]]\n",
        "logistic.fit(X = data, y = wine_train_target)\n",
        "predictions = logistic.predict(prediction_data)\n",
        "score = logistic.score(prediction_data, wine_test_target)\n",
        "print(score)\n",
        "#Confusion Matrix\n",
        "metrics.plot_confusion_matrix(logistic, prediction_data, wine_test_target)"
      ],
      "metadata": {
        "id": "1dywouJ-n-aF",
        "colab": {
          "base_uri": "https://localhost:8080/",
          "height": 364
        },
        "outputId": "1ac8869f-e5f2-49e8-bdd3-328921c844c8"
      },
      "execution_count": null,
      "outputs": [
        {
          "output_type": "stream",
          "name": "stdout",
          "text": [
            "0.9841382575757576\n"
          ]
        },
        {
          "output_type": "stream",
          "name": "stderr",
          "text": [
            "/usr/local/lib/python3.7/dist-packages/sklearn/utils/deprecation.py:87: FutureWarning: Function plot_confusion_matrix is deprecated; Function `plot_confusion_matrix` is deprecated in 1.0 and will be removed in 1.2. Use one of the class methods: ConfusionMatrixDisplay.from_predictions or ConfusionMatrixDisplay.from_estimator.\n",
            "  warnings.warn(msg, category=FutureWarning)\n"
          ]
        },
        {
          "output_type": "execute_result",
          "data": {
            "text/plain": [
              "<sklearn.metrics._plot.confusion_matrix.ConfusionMatrixDisplay at 0x7f28237a87d0>"
            ]
          },
          "metadata": {},
          "execution_count": 9
        },
        {
          "output_type": "display_data",
          "data": {
            "text/plain": [
              "<Figure size 432x288 with 2 Axes>"
            ],
            "image/png": "[encoded data removed]"
          },
          "metadata": {
            "needs_background": "light"
          }
        }
      ]
    },
    {
      "cell_type": "code",
      "source": [
        "#Prediction of red or white (what we think would be good predictors)\n",
        "wine_data = wine.drop(columns = [\"type\"])\n",
        "wine_target = wine[\"type\"]\n",
        "wine_train_data, wine_test_data, wine_train_target, wine_test_target = train_test_split(wine_data, wine_target, test_size = 0.65, random_state = 79)\n",
        "\n",
        "logistic = LogisticRegression(max_iter = 1000)\n",
        "data = wine_train_data[[\"fixed acidity\", \"volatile acidity\",\"citric acid\", \"residual sugar\", \"pH\"]]\n",
        "\n",
        "prediction_data = wine_test_data[[\"fixed acidity\", \"volatile acidity\", \"citric acid\", \"residual sugar\", \"pH\"]]\n",
        "logistic.fit(X = data, y = wine_train_target)\n",
        "predictions = logistic.predict(prediction_data)\n",
        "score = logistic.score(prediction_data, wine_test_target)\n",
        "print(score)"
      ],
      "metadata": {
        "colab": {
          "base_uri": "https://localhost:8080/"
        },
        "id": "X4apMtA2JpMp",
        "outputId": "c9fd4827-1eea-42e3-c837-ef011e64744a"
      },
      "execution_count": null,
      "outputs": [
        {
          "output_type": "stream",
          "name": "stdout",
          "text": [
            "0.9476799242424242\n"
          ]
        }
      ]
    },
    {
      "cell_type": "code",
      "source": [
        "#Confusion Matrix\n",
        "metrics.plot_confusion_matrix(logistic, prediction_data, wine_test_target)"
      ],
      "metadata": {
        "colab": {
          "base_uri": "https://localhost:8080/",
          "height": 348
        },
        "id": "aB9tN6y3X6b9",
        "outputId": "664ca164-d599-498f-ccf8-9066b25b24ef"
      },
      "execution_count": null,
      "outputs": [
        {
          "output_type": "stream",
          "name": "stderr",
          "text": [
            "/usr/local/lib/python3.7/dist-packages/sklearn/utils/deprecation.py:87: FutureWarning: Function plot_confusion_matrix is deprecated; Function `plot_confusion_matrix` is deprecated in 1.0 and will be removed in 1.2. Use one of the class methods: ConfusionMatrixDisplay.from_predictions or ConfusionMatrixDisplay.from_estimator.\n",
            "  warnings.warn(msg, category=FutureWarning)\n"
          ]
        },
        {
          "output_type": "execute_result",
          "data": {
            "text/plain": [
              "<sklearn.metrics._plot.confusion_matrix.ConfusionMatrixDisplay at 0x7f282157b990>"
            ]
          },
          "metadata": {},
          "execution_count": 11
        },
        {
          "output_type": "display_data",
          "data": {
            "text/plain": [
              "<Figure size 432x288 with 2 Axes>"
            ],
            "image/png": "[encoded data removed]"
          },
          "metadata": {
            "needs_background": "light"
          }
        }
      ]
    },
    {
      "cell_type": "code",
      "source": [
        "print(\"Precision:\", metrics.precision_score(wine_test_target.values, predictions, pos_label = \"white\"))\n",
        "print(\"Recall:\", metrics.recall_score(wine_test_target.values, predictions, pos_label = \"white\"))\n",
        "print(\"F1:\", metrics.f1_score(wine_test_target.values, predictions, pos_label = \"white\"))\n"
      ],
      "metadata": {
        "colab": {
          "base_uri": "https://localhost:8080/"
        },
        "id": "j9vG7omS0XDE",
        "outputId": "ad787563-9f72-4b97-d87d-f3e84fc34e3c"
      },
      "execution_count": null,
      "outputs": [
        {
          "output_type": "stream",
          "name": "stdout",
          "text": [
            "Precision: 0.9558553034947884\n",
            "Recall: 0.9758998435054773\n",
            "F1: 0.9657735790614838\n"
          ]
        }
      ]
    },
    {
      "cell_type": "markdown",
      "source": [
        "Our confusion matrix depicts a low number of false positives and false negatives (and correspondingly, a high number of true positives and true negatives). Our model has a precision score of 0.956, which means that out of the wines we predicted would be white, 95.6% were actually white. It has a recall score of 0.976, which means that out of the wines that were actually white, we predicted that 97.6% would be white. Finally, our F1 score is 0.966, which indicates that our model did well on both precision and recall."
      ],
      "metadata": {
        "id": "um5upVmC2SW6"
      }
    },
    {
      "cell_type": "markdown",
      "source": [
        "# Limitations and Future Work\n",
        "\n",
        "The datasets we used have a few limitations: a) both datasets are related to varieties of the Portuguese *Vinho Verde* wine, which may limit the generalizability of our findings to a broader context, and b) there are nearly three times as many white wine observations as red wine observations, which impacts our ability to compare the influence of our predictor variables on quality for red vs white wine, as well as our predictions of wine type.\n",
        "\n",
        "Future work on this project includes expanding our linear regression models to explore the relationship between wine quality and other predictor variables that weren't used in our initial models. Our current R^2 values for both models are relatively low and can very likely be improved upon. In doing so, we can compare multiple linear regression models with different variables to choose the most effective model. Additionally, further research is needed to explore the reason why we obtained a higher accuracy score with our full logistic regression model instead of our simpler model as expected.\n"
      ],
      "metadata": {
        "id": "rUUJtfZUcJ6Y"
      }
    },
    {
      "cell_type": "markdown",
      "source": [
        "# Conclusion\n",
        "We sought to analyze the chemical factors that affect wine quality and aggregated data collected from May 2004 to February 2007 on red and white *Vinho Verde* wine. In addition to these factors, we were also interested in predicting the wine type (red vs. white) based on physicochemical properties (our data). We primarily used two models: a linear regression model that identifies the factors that best predict wine quality on a scale from 1-10, and a logistic regression model that identifies the factors that best classify the type of wine. Our models reveal that alcohol and citric acid are the best predictors of white wine, and that alcohol, residual sugar, and pH are the best predictors of red wine. Our model assessments resulted in an R^2 of 0.253 for the red wine model and 0.190 for the white wine model, which certainly leaves room for improvement. However, in predicting the type of wine, using variables that we presumed to have to best effect (such as fixed acidity, volatile acidity, citric acid, residual sugar, pH) we achieved an accuracy score of 0.948. Ultimately, this was not better than the model that used every single variable in the dataset to predict the type of wine. This shows that all the variables in the dataset prove important when distinguishing between red and white wine. Overall, this project was really interesting and in our analysis and research, our group learned a lot about wines and data analysis.\n"
      ],
      "metadata": {
        "id": "nIGzqdy97Nc5"
      }
    },
    {
      "cell_type": "code",
      "source": [
        ""
      ],
      "metadata": {
        "id": "qPzc5rxtZzVJ"
      },
      "execution_count": null,
      "outputs": []
    }
  ]
}